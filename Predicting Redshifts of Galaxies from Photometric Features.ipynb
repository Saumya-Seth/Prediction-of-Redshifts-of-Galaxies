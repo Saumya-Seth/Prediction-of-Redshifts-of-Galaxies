{
 "cells": [
  {
   "cell_type": "markdown",
   "id": "d0ea4c71",
   "metadata": {},
   "source": [
    "# Predicting Redshifts of Galaxies from Photometric Features"
   ]
  },
  {
   "cell_type": "markdown",
   "id": "40302430",
   "metadata": {},
   "source": [
    "To calculate the redshift of a distant galaxy, the most accurate method is to observe the optical emission lines and measure the shift in wavelength. However, this process can be time consuming and is thus infeasible for large samples, so we only have spectrometry measurements for a small fraction of all galaxies that we can see. \n",
    "\n",
    "Photometric measurements are easier to obtain (but less accurate). The goal here is to predict the spectroscopic redshift from their photometric colours by training on galaxies for which we have both measurements. This is how the redshift can be calculated for galaxies which have no spectrometric measurements."
   ]
  },
  {
   "cell_type": "code",
   "execution_count": 424,
   "id": "931e52df",
   "metadata": {},
   "outputs": [],
   "source": [
    "import numpy as np\n",
    "import pandas as pd\n",
    "import matplotlib as plt"
   ]
  },
  {
   "cell_type": "code",
   "execution_count": 425,
   "id": "c5833c0a",
   "metadata": {},
   "outputs": [],
   "source": [
    "data = np.load('sdss_galaxy_colors.npy')"
   ]
  },
  {
   "cell_type": "code",
   "execution_count": 426,
   "id": "12a7224c",
   "metadata": {
    "scrolled": true
   },
   "outputs": [
    {
     "data": {
      "text/plain": [
       "array([(19.84132, 19.52656, 19.46946, 19.17955, 19.10763, b'QSO', 0.539301  , 6.543622e-05),\n",
       "       (19.86318, 18.66298, 17.84272, 17.38978, 17.14313, b'GALAXY', 0.1645703 , 1.186625e-05),\n",
       "       (19.97362, 18.31421, 17.47922, 17.0744 , 16.76174, b'GALAXY', 0.04190006, 2.183788e-05),\n",
       "       ...,\n",
       "       (19.82667, 18.10038, 17.16133, 16.5796 , 16.19755, b'GALAXY', 0.0784592 , 2.159406e-05),\n",
       "       (19.98672, 19.75385, 19.5713 , 19.27739, 19.25895, b'QSO', 1.567295  , 4.505933e-04),\n",
       "       (18.00024, 17.80957, 17.77302, 17.72663, 17.7264 , b'QSO', 0.4749449 , 6.203324e-05)],\n",
       "      dtype=[('u', '<f8'), ('g', '<f8'), ('r', '<f8'), ('i', '<f8'), ('z', '<f8'), ('spec_class', 'S6'), ('redshift', '<f8'), ('redshift_err', '<f8')])"
      ]
     },
     "execution_count": 426,
     "metadata": {},
     "output_type": "execute_result"
    }
   ],
   "source": [
    "data"
   ]
  },
  {
   "cell_type": "code",
   "execution_count": 427,
   "id": "453c090a",
   "metadata": {},
   "outputs": [],
   "source": [
    "df = pd.DataFrame(data)"
   ]
  },
  {
   "cell_type": "code",
   "execution_count": 428,
   "id": "56583a95",
   "metadata": {},
   "outputs": [
    {
     "data": {
      "text/html": [
       "<div>\n",
       "<style scoped>\n",
       "    .dataframe tbody tr th:only-of-type {\n",
       "        vertical-align: middle;\n",
       "    }\n",
       "\n",
       "    .dataframe tbody tr th {\n",
       "        vertical-align: top;\n",
       "    }\n",
       "\n",
       "    .dataframe thead th {\n",
       "        text-align: right;\n",
       "    }\n",
       "</style>\n",
       "<table border=\"1\" class=\"dataframe\">\n",
       "  <thead>\n",
       "    <tr style=\"text-align: right;\">\n",
       "      <th></th>\n",
       "      <th>u</th>\n",
       "      <th>g</th>\n",
       "      <th>r</th>\n",
       "      <th>i</th>\n",
       "      <th>z</th>\n",
       "      <th>spec_class</th>\n",
       "      <th>redshift</th>\n",
       "      <th>redshift_err</th>\n",
       "    </tr>\n",
       "  </thead>\n",
       "  <tbody>\n",
       "    <tr>\n",
       "      <th>0</th>\n",
       "      <td>19.84132</td>\n",
       "      <td>19.52656</td>\n",
       "      <td>19.46946</td>\n",
       "      <td>19.17955</td>\n",
       "      <td>19.10763</td>\n",
       "      <td>b'QSO'</td>\n",
       "      <td>0.539301</td>\n",
       "      <td>0.000065</td>\n",
       "    </tr>\n",
       "    <tr>\n",
       "      <th>1</th>\n",
       "      <td>19.86318</td>\n",
       "      <td>18.66298</td>\n",
       "      <td>17.84272</td>\n",
       "      <td>17.38978</td>\n",
       "      <td>17.14313</td>\n",
       "      <td>b'GALAXY'</td>\n",
       "      <td>0.164570</td>\n",
       "      <td>0.000012</td>\n",
       "    </tr>\n",
       "    <tr>\n",
       "      <th>2</th>\n",
       "      <td>19.97362</td>\n",
       "      <td>18.31421</td>\n",
       "      <td>17.47922</td>\n",
       "      <td>17.07440</td>\n",
       "      <td>16.76174</td>\n",
       "      <td>b'GALAXY'</td>\n",
       "      <td>0.041900</td>\n",
       "      <td>0.000022</td>\n",
       "    </tr>\n",
       "    <tr>\n",
       "      <th>3</th>\n",
       "      <td>19.05989</td>\n",
       "      <td>17.49459</td>\n",
       "      <td>16.59285</td>\n",
       "      <td>16.09412</td>\n",
       "      <td>15.70741</td>\n",
       "      <td>b'GALAXY'</td>\n",
       "      <td>0.044277</td>\n",
       "      <td>0.000011</td>\n",
       "    </tr>\n",
       "    <tr>\n",
       "      <th>4</th>\n",
       "      <td>19.45567</td>\n",
       "      <td>18.33084</td>\n",
       "      <td>17.67185</td>\n",
       "      <td>17.30189</td>\n",
       "      <td>17.13650</td>\n",
       "      <td>b'GALAXY'</td>\n",
       "      <td>0.041644</td>\n",
       "      <td>0.000018</td>\n",
       "    </tr>\n",
       "    <tr>\n",
       "      <th>5</th>\n",
       "      <td>18.27065</td>\n",
       "      <td>18.08745</td>\n",
       "      <td>18.08966</td>\n",
       "      <td>18.22180</td>\n",
       "      <td>18.37045</td>\n",
       "      <td>b'QSO'</td>\n",
       "      <td>0.396530</td>\n",
       "      <td>0.056599</td>\n",
       "    </tr>\n",
       "    <tr>\n",
       "      <th>6</th>\n",
       "      <td>18.94490</td>\n",
       "      <td>17.45382</td>\n",
       "      <td>16.71061</td>\n",
       "      <td>16.26543</td>\n",
       "      <td>15.94860</td>\n",
       "      <td>b'GALAXY'</td>\n",
       "      <td>0.073319</td>\n",
       "      <td>0.000010</td>\n",
       "    </tr>\n",
       "  </tbody>\n",
       "</table>\n",
       "</div>"
      ],
      "text/plain": [
       "          u         g         r         i         z spec_class  redshift  \\\n",
       "0  19.84132  19.52656  19.46946  19.17955  19.10763     b'QSO'  0.539301   \n",
       "1  19.86318  18.66298  17.84272  17.38978  17.14313  b'GALAXY'  0.164570   \n",
       "2  19.97362  18.31421  17.47922  17.07440  16.76174  b'GALAXY'  0.041900   \n",
       "3  19.05989  17.49459  16.59285  16.09412  15.70741  b'GALAXY'  0.044277   \n",
       "4  19.45567  18.33084  17.67185  17.30189  17.13650  b'GALAXY'  0.041644   \n",
       "5  18.27065  18.08745  18.08966  18.22180  18.37045     b'QSO'  0.396530   \n",
       "6  18.94490  17.45382  16.71061  16.26543  15.94860  b'GALAXY'  0.073319   \n",
       "\n",
       "   redshift_err  \n",
       "0      0.000065  \n",
       "1      0.000012  \n",
       "2      0.000022  \n",
       "3      0.000011  \n",
       "4      0.000018  \n",
       "5      0.056599  \n",
       "6      0.000010  "
      ]
     },
     "execution_count": 428,
     "metadata": {},
     "output_type": "execute_result"
    }
   ],
   "source": [
    "df.head(7)"
   ]
  },
  {
   "cell_type": "markdown",
   "id": "08b7ceeb",
   "metadata": {},
   "source": [
    "Flux magnitudes are the total flux (or light) received in five frequency bands (u, g, r, i and z).\n",
    "\n",
    "The **colour index** is the difference between the magnitudes of two filters, i.e. u - g or i - z.\n",
    "\n",
    "This index is one way to characterise the colours of galaxies. For example, if the u-g index is high then the object is brighter in ultra violet frequencies than it is in visible green frequencies."
   ]
  },
  {
   "cell_type": "code",
   "execution_count": 429,
   "id": "eaa947bf",
   "metadata": {},
   "outputs": [],
   "source": [
    "def get_features(data):\n",
    " \n",
    "   features = np.zeros(shape=(len(data), 4))\n",
    "   features[:, 0] = data['u'] - data['g']\n",
    "   features[:, 1] = data['g'] - data['r']\n",
    "   features[:, 2] = data['r'] - data['i']\n",
    "   features[:, 3] = data['i'] - data['z']\n",
    "   targets = data['redshift']\n",
    "   return features\n",
    "\n",
    "   pass\n",
    "\n",
    "data = np.load('sdss_galaxy_colors.npy')\n",
    "features = get_features(data)"
   ]
  },
  {
   "cell_type": "code",
   "execution_count": 430,
   "id": "181afed7",
   "metadata": {},
   "outputs": [],
   "source": [
    "df = pd.DataFrame(features, columns=[\"u_g\", \"g_r\", \"r_i\", \"i_z\"])"
   ]
  },
  {
   "cell_type": "code",
   "execution_count": 431,
   "id": "bc4f10a2",
   "metadata": {},
   "outputs": [
    {
     "data": {
      "text/html": [
       "<div>\n",
       "<style scoped>\n",
       "    .dataframe tbody tr th:only-of-type {\n",
       "        vertical-align: middle;\n",
       "    }\n",
       "\n",
       "    .dataframe tbody tr th {\n",
       "        vertical-align: top;\n",
       "    }\n",
       "\n",
       "    .dataframe thead th {\n",
       "        text-align: right;\n",
       "    }\n",
       "</style>\n",
       "<table border=\"1\" class=\"dataframe\">\n",
       "  <thead>\n",
       "    <tr style=\"text-align: right;\">\n",
       "      <th></th>\n",
       "      <th>u_g</th>\n",
       "      <th>g_r</th>\n",
       "      <th>r_i</th>\n",
       "      <th>i_z</th>\n",
       "    </tr>\n",
       "  </thead>\n",
       "  <tbody>\n",
       "    <tr>\n",
       "      <th>0</th>\n",
       "      <td>0.31476</td>\n",
       "      <td>0.05710</td>\n",
       "      <td>0.28991</td>\n",
       "      <td>0.07192</td>\n",
       "    </tr>\n",
       "    <tr>\n",
       "      <th>1</th>\n",
       "      <td>1.20020</td>\n",
       "      <td>0.82026</td>\n",
       "      <td>0.45294</td>\n",
       "      <td>0.24665</td>\n",
       "    </tr>\n",
       "    <tr>\n",
       "      <th>2</th>\n",
       "      <td>1.65941</td>\n",
       "      <td>0.83499</td>\n",
       "      <td>0.40482</td>\n",
       "      <td>0.31266</td>\n",
       "    </tr>\n",
       "    <tr>\n",
       "      <th>3</th>\n",
       "      <td>1.56530</td>\n",
       "      <td>0.90174</td>\n",
       "      <td>0.49873</td>\n",
       "      <td>0.38671</td>\n",
       "    </tr>\n",
       "    <tr>\n",
       "      <th>4</th>\n",
       "      <td>1.12483</td>\n",
       "      <td>0.65899</td>\n",
       "      <td>0.36996</td>\n",
       "      <td>0.16539</td>\n",
       "    </tr>\n",
       "  </tbody>\n",
       "</table>\n",
       "</div>"
      ],
      "text/plain": [
       "       u_g      g_r      r_i      i_z\n",
       "0  0.31476  0.05710  0.28991  0.07192\n",
       "1  1.20020  0.82026  0.45294  0.24665\n",
       "2  1.65941  0.83499  0.40482  0.31266\n",
       "3  1.56530  0.90174  0.49873  0.38671\n",
       "4  1.12483  0.65899  0.36996  0.16539"
      ]
     },
     "execution_count": 431,
     "metadata": {},
     "output_type": "execute_result"
    }
   ],
   "source": [
    "df.head()"
   ]
  },
  {
   "cell_type": "code",
   "execution_count": 432,
   "id": "cb658dba",
   "metadata": {},
   "outputs": [],
   "source": [
    "df[\"redshift\"]= data[\"redshift\"]"
   ]
  },
  {
   "cell_type": "markdown",
   "id": "8f2345f9",
   "metadata": {},
   "source": [
    "#### The DataFrame to be used to predict redshift:"
   ]
  },
  {
   "cell_type": "code",
   "execution_count": 433,
   "id": "ca1224e3",
   "metadata": {},
   "outputs": [
    {
     "data": {
      "text/html": [
       "<div>\n",
       "<style scoped>\n",
       "    .dataframe tbody tr th:only-of-type {\n",
       "        vertical-align: middle;\n",
       "    }\n",
       "\n",
       "    .dataframe tbody tr th {\n",
       "        vertical-align: top;\n",
       "    }\n",
       "\n",
       "    .dataframe thead th {\n",
       "        text-align: right;\n",
       "    }\n",
       "</style>\n",
       "<table border=\"1\" class=\"dataframe\">\n",
       "  <thead>\n",
       "    <tr style=\"text-align: right;\">\n",
       "      <th></th>\n",
       "      <th>u_g</th>\n",
       "      <th>g_r</th>\n",
       "      <th>r_i</th>\n",
       "      <th>i_z</th>\n",
       "      <th>redshift</th>\n",
       "    </tr>\n",
       "  </thead>\n",
       "  <tbody>\n",
       "    <tr>\n",
       "      <th>0</th>\n",
       "      <td>0.31476</td>\n",
       "      <td>0.05710</td>\n",
       "      <td>0.28991</td>\n",
       "      <td>0.07192</td>\n",
       "      <td>0.539301</td>\n",
       "    </tr>\n",
       "    <tr>\n",
       "      <th>1</th>\n",
       "      <td>1.20020</td>\n",
       "      <td>0.82026</td>\n",
       "      <td>0.45294</td>\n",
       "      <td>0.24665</td>\n",
       "      <td>0.164570</td>\n",
       "    </tr>\n",
       "    <tr>\n",
       "      <th>2</th>\n",
       "      <td>1.65941</td>\n",
       "      <td>0.83499</td>\n",
       "      <td>0.40482</td>\n",
       "      <td>0.31266</td>\n",
       "      <td>0.041900</td>\n",
       "    </tr>\n",
       "    <tr>\n",
       "      <th>3</th>\n",
       "      <td>1.56530</td>\n",
       "      <td>0.90174</td>\n",
       "      <td>0.49873</td>\n",
       "      <td>0.38671</td>\n",
       "      <td>0.044277</td>\n",
       "    </tr>\n",
       "    <tr>\n",
       "      <th>4</th>\n",
       "      <td>1.12483</td>\n",
       "      <td>0.65899</td>\n",
       "      <td>0.36996</td>\n",
       "      <td>0.16539</td>\n",
       "      <td>0.041644</td>\n",
       "    </tr>\n",
       "    <tr>\n",
       "      <th>5</th>\n",
       "      <td>0.18320</td>\n",
       "      <td>-0.00221</td>\n",
       "      <td>-0.13214</td>\n",
       "      <td>-0.14865</td>\n",
       "      <td>0.396530</td>\n",
       "    </tr>\n",
       "    <tr>\n",
       "      <th>6</th>\n",
       "      <td>1.49108</td>\n",
       "      <td>0.74321</td>\n",
       "      <td>0.44518</td>\n",
       "      <td>0.31683</td>\n",
       "      <td>0.073319</td>\n",
       "    </tr>\n",
       "  </tbody>\n",
       "</table>\n",
       "</div>"
      ],
      "text/plain": [
       "       u_g      g_r      r_i      i_z  redshift\n",
       "0  0.31476  0.05710  0.28991  0.07192  0.539301\n",
       "1  1.20020  0.82026  0.45294  0.24665  0.164570\n",
       "2  1.65941  0.83499  0.40482  0.31266  0.041900\n",
       "3  1.56530  0.90174  0.49873  0.38671  0.044277\n",
       "4  1.12483  0.65899  0.36996  0.16539  0.041644\n",
       "5  0.18320 -0.00221 -0.13214 -0.14865  0.396530\n",
       "6  1.49108  0.74321  0.44518  0.31683  0.073319"
      ]
     },
     "execution_count": 433,
     "metadata": {},
     "output_type": "execute_result"
    }
   ],
   "source": [
    "df.head(7)"
   ]
  },
  {
   "cell_type": "code",
   "execution_count": 434,
   "id": "813c273d",
   "metadata": {},
   "outputs": [],
   "source": [
    "Y = df[\"redshift\"]\n",
    "X = df.drop(\"redshift\", axis=1)"
   ]
  },
  {
   "cell_type": "code",
   "execution_count": 435,
   "id": "911aaf2d",
   "metadata": {},
   "outputs": [],
   "source": [
    "from sklearn.model_selection import train_test_split\n",
    "X_train, X_test, Y_train, Y_test = train_test_split(X, Y, train_size=0.7)"
   ]
  },
  {
   "cell_type": "markdown",
   "id": "d952bbea",
   "metadata": {},
   "source": [
    "### Decision Tree"
   ]
  },
  {
   "cell_type": "code",
   "execution_count": 436,
   "id": "be92ef02",
   "metadata": {},
   "outputs": [
    {
     "name": "stdout",
     "output_type": "stream",
     "text": [
      "[1.722355   0.17509147 0.08085633 0.10610242 0.11336521 4.399811\n",
      " 0.07795616 0.14513644 0.07354285 0.10201892 0.07591395 0.07538214\n",
      " 0.10835872 1.89579    0.09120796 0.07465717 0.07444315 0.08901572\n",
      " 0.09479341 0.06717243]\n"
     ]
    }
   ],
   "source": [
    "from sklearn.tree import DecisionTreeRegressor\n",
    "dtr = DecisionTreeRegressor()\n",
    "\n",
    "dtr.fit(X_train, Y_train)\n",
    "\n",
    "Y_preds = dtr.predict(X_test)\n",
    "\n",
    "print(predictions[:20])"
   ]
  },
  {
   "cell_type": "code",
   "execution_count": 437,
   "id": "d8d2056d",
   "metadata": {},
   "outputs": [
    {
     "data": {
      "text/plain": [
       "0.09282674011960294"
      ]
     },
     "execution_count": 437,
     "metadata": {},
     "output_type": "execute_result"
    }
   ],
   "source": [
    "from sklearn.metrics import mean_absolute_error\n",
    "mean_absolute_error(Y_test, Y_preds)"
   ]
  },
  {
   "cell_type": "code",
   "execution_count": 438,
   "id": "421ec132",
   "metadata": {},
   "outputs": [],
   "source": [
    "def median_diff(predicted, actual):\n",
    "  return np.median(np.abs(predicted[:] - actual[:]))"
   ]
  },
  {
   "cell_type": "code",
   "execution_count": 439,
   "id": "1f770d73",
   "metadata": {},
   "outputs": [
    {
     "data": {
      "text/plain": [
       "0.021755085"
      ]
     },
     "execution_count": 439,
     "metadata": {},
     "output_type": "execute_result"
    }
   ],
   "source": [
    "median_diff(Y_preds, Y_test)"
   ]
  },
  {
   "cell_type": "markdown",
   "id": "ec62af14",
   "metadata": {},
   "source": [
    "### One of the biggest limitations of decision trees is that they tend to over-fit the data. \n",
    "In order to see how the tree is overfitting, we would like to examine how our decision tree performs for different **tree depths.** Specifically, we would like to see how it performs on test data compared to the data that was used to train it. \n",
    "\n",
    "#### Constraining the number of decision node rows (the tree depth) can have an impact on the accuracy of our predictions."
   ]
  },
  {
   "cell_type": "code",
   "execution_count": 440,
   "id": "53925774",
   "metadata": {},
   "outputs": [],
   "source": [
    "def accuracy_by_treedepth(features, targets, depths):\n",
    "  split = features.shape[0]//2\n",
    "  X_train, X_test = features[:split], features[split:]\n",
    "  Y_train, Y_test = targets[:split], targets[split:]\n",
    "\n",
    "  train_diffs = []\n",
    "  test_diffs = []\n",
    "\n",
    "  \n",
    "  for depth in depths:\n",
    "    dtr = DecisionTreeRegressor(max_depth=depth)\n",
    "    dtr.fit(X_train, Y_train)\n",
    "    \n",
    "    predictions = dtr.predict(X_train)\n",
    "    train_diffs.append(median_diff(Y_train, predictions))\n",
    "\n",
    "    predictions = dtr.predict(X_test)\n",
    "    test_diffs.append(median_diff(Y_test, predictions))\n",
    "        \n",
    "  return train_diffs, test_diffs"
   ]
  },
  {
   "cell_type": "code",
   "execution_count": 441,
   "id": "8338e016",
   "metadata": {},
   "outputs": [
    {
     "name": "stdout",
     "output_type": "stream",
     "text": [
      "Depth with lowest median difference : 21\n"
     ]
    },
    {
     "data": {
      "image/png": "[encoded data removed]",
      "text/plain": [
       "<Figure size 432x288 with 1 Axes>"
      ]
     },
     "metadata": {
      "needs_background": "light"
     },
     "output_type": "display_data"
    }
   ],
   "source": [
    "from matplotlib import pyplot as plt\n",
    "\n",
    "tree_depths = [i for i in range(1, 36, 2)]\n",
    "\n",
    "train_med_diffs, test_med_diffs = accuracy_by_treedepth(X, Y, tree_depths)\n",
    "print(\"Depth with lowest median difference : {}\".format(tree_depths[test_med_diffs.index(min(test_med_diffs))]))\n",
    "    \n",
    "train_plot = plt.plot(tree_depths, train_med_diffs, label='Training set')\n",
    "test_plot = plt.plot(tree_depths, test_med_diffs, label='Validation set')\n",
    "plt.xlabel(\"Maximum Tree Depth\")\n",
    "plt.ylabel(\"Median of Differences\")\n",
    "plt.legend()\n",
    "plt.show()"
   ]
  },
  {
   "cell_type": "markdown",
   "id": "e5885b9e",
   "metadata": {},
   "source": [
    "The accuracy measure of the predictions for the test set gets better initially and then worse at larger tree depths. At a tree depth ~19 the decision tree starts to overfit the data. This means it tries to take into account outliers in the training set and loses its general predictive accuracy.\n",
    "\n",
    "Overfitting is a common problem with decision trees and can be circumvented by adjusting parameters like the tree depth or setting a minimum number of cases at each node. For now, we will set a **maximum tree depth of 19 to prevent over-fitting.**"
   ]
  },
  {
   "cell_type": "code",
   "execution_count": 442,
   "id": "9ef65d7d",
   "metadata": {},
   "outputs": [
    {
     "name": "stdout",
     "output_type": "stream",
     "text": [
      "[0.09021775 0.08666384 0.10242489 0.07661862 0.53938325 0.04585199\n",
      " 0.07535349 0.06458492 0.10665677 0.06396124 0.09947314 0.0864268\n",
      " 0.07007905 0.1150927  0.09947314 0.06299949 0.13308175 0.08732733\n",
      " 0.17951612 0.1113511 ]\n"
     ]
    }
   ],
   "source": [
    "dtr = DecisionTreeRegressor(max_depth=19)\n",
    "dtr.fit(X_train, Y_train)\n",
    "\n",
    "Y_preds = dtr.predict(X_test)\n",
    "\n",
    "print(Y_preds[:20])"
   ]
  },
  {
   "cell_type": "code",
   "execution_count": 443,
   "id": "61917cdf",
   "metadata": {},
   "outputs": [
    {
     "data": {
      "text/plain": [
       "0.08676871819758575"
      ]
     },
     "execution_count": 443,
     "metadata": {},
     "output_type": "execute_result"
    }
   ],
   "source": [
    "from sklearn.metrics import mean_absolute_error\n",
    "mean_absolute_error(Y_test, Y_preds)"
   ]
  },
  {
   "cell_type": "code",
   "execution_count": 444,
   "id": "ace4d386",
   "metadata": {},
   "outputs": [],
   "source": [
    "def median_diff(predicted, actual):\n",
    "  return np.median(np.abs(predicted[:] - actual[:]))"
   ]
  },
  {
   "cell_type": "code",
   "execution_count": 445,
   "id": "043edcd2",
   "metadata": {},
   "outputs": [
    {
     "data": {
      "text/plain": [
       "0.01759415691813902"
      ]
     },
     "execution_count": 445,
     "metadata": {},
     "output_type": "execute_result"
    }
   ],
   "source": [
    "median_diff(Y_preds, Y_test)"
   ]
  },
  {
   "cell_type": "markdown",
   "id": "dec7ad2f",
   "metadata": {},
   "source": [
    "Clearly, the model has improved by setting max_depth=19."
   ]
  },
  {
   "cell_type": "markdown",
   "id": "e34cd6c3",
   "metadata": {},
   "source": [
    "## K-fold Cross-validation"
   ]
  },
  {
   "cell_type": "code",
   "execution_count": 446,
   "id": "9405511e",
   "metadata": {},
   "outputs": [
    {
     "name": "stdout",
     "output_type": "stream",
     "text": [
      "Differences: 0.017, 0.017, 0.018, 0.017, 0.017, 0.018, 0.018, 0.017, 0.017, 0.018\n",
      "Mean difference: 0.017\n"
     ]
    }
   ],
   "source": [
    "from sklearn.model_selection import KFold\n",
    "\n",
    "def cross_validate_model(model, features, targets, k):\n",
    "  kf = KFold(n_splits=k, shuffle=True)\n",
    "\n",
    "  diffs = []\n",
    "\n",
    "  for train_indices, test_indices in kf.split(features):\n",
    "    train_features, test_features = features[train_indices], features[test_indices]\n",
    "    train_targets, test_targets = targets[train_indices], targets[test_indices]\n",
    "    \n",
    "    model.fit(train_features, train_targets)\n",
    "    \n",
    "    predictions = model.predict(test_features)\n",
    "\n",
    "    diffs.append(median_diff(predictions, test_targets))\n",
    " \n",
    "  return diffs\n",
    "\n",
    "dtr = DecisionTreeRegressor(max_depth=19)\n",
    "\n",
    "diffs = cross_validate_model(dtr, features, targets, 10)\n",
    "\n",
    "print('Differences: {}'.format(', '.join(['{:.3f}'.format(val) for val in diffs])))\n",
    "print('Mean difference: {:.3f}'.format(np.mean(diffs)))"
   ]
  },
  {
   "cell_type": "code",
   "execution_count": 447,
   "id": "42c93fee",
   "metadata": {},
   "outputs": [
    {
     "name": "stdout",
     "output_type": "stream",
     "text": [
      "Median difference: 0.017\n"
     ]
    },
    {
     "data": {
      "image/png": "[encoded data removed]",
      "text/plain": [
       "<Figure size 432x288 with 1 Axes>"
      ]
     },
     "metadata": {
      "needs_background": "light"
     },
     "output_type": "display_data"
    }
   ],
   "source": [
    "def cross_validate_predictions(model, features, targets, k):\n",
    "  kf = KFold(n_splits=k, shuffle=True)\n",
    "\n",
    "  all_predictions = np.zeros_like(targets)\n",
    "\n",
    "  for train_indices, test_indices in kf.split(features):\n",
    "\n",
    "    train_features, test_features = features[train_indices], features[test_indices]\n",
    "    train_targets, test_targets = targets[train_indices], targets[test_indices]\n",
    "    \n",
    "    model.fit(train_features, train_targets)\n",
    "        \n",
    "    predictions = model.predict(test_features)\n",
    "\n",
    "    all_predictions[test_indices] = predictions\n",
    "    \n",
    "  return all_predictions\n",
    "\n",
    "\n",
    "if __name__ == \"__main__\":\n",
    "  data = np.load('./sdss_galaxy_colors.npy')\n",
    "  features, targets = get_features_targets(data)\n",
    "\n",
    "\n",
    "  dtr = DecisionTreeRegressor(max_depth=19)\n",
    "  predictions = cross_validate_predictions(dtr, features, targets, 10)\n",
    "\n",
    "  # calculate and print the rmsd as a sanity check\n",
    "  diffs = median_diff(predictions, targets)\n",
    "  print('Median difference: {:.3f}'.format(diffs))\n",
    "\n",
    "  # plot the results to see how well our model looks\n",
    "  plt.scatter(targets, predictions, s=0.4)\n",
    "  plt.xlim((0, targets.max()))\n",
    "  plt.ylim((0, predictions.max()))\n",
    "  plt.xlabel('Measured Redshift')\n",
    "  plt.ylabel('Predicted Redshift')\n",
    "  plt.show()"
   ]
  },
  {
   "cell_type": "markdown",
   "id": "edeca74d",
   "metadata": {},
   "source": [
    "Clearly, for many our galaxies we were able to get a reasonably accurate prediction of redshift. \n",
    "However, there are also several outliers where this model does not give a good prediction."
   ]
  },
  {
   "cell_type": "markdown",
   "id": "b2389ce6",
   "metadata": {},
   "source": [
    "### This sample of galaxies actually consists of two different populations: regular galaxies and quasi-stellar objects (QSOs). QSOs are a type of galaxy that contain an actively (and intensly) accreting supermassive black hole. This is often referred to as an Active Galactic Nucleus (AGN).\n",
    "\n",
    "The light emitted from the AGN is significantly brighter than the rest of the galaxy and we are able to detect these QSOs out to much higher redshifts. In fact, most of the normal galaxies have redshifts less than z≈0.4, while the QSOs have redshifts all the way out to z≈6. Due to this contribution from the AGN, the flux magnitudes measured at different wavelengths might not follow the typical profile we assumed when predicting redshifts."
   ]
  },
  {
   "cell_type": "markdown",
   "id": "b153d5f4",
   "metadata": {},
   "source": [
    "## Difference in the accuracy of the decision trees between QSOs and regular galaxies:"
   ]
  },
  {
   "cell_type": "code",
   "execution_count": 448,
   "id": "b89e24cd",
   "metadata": {},
   "outputs": [
    {
     "name": "stdout",
     "output_type": "stream",
     "text": [
      "Median difference for Galaxies: 0.016\n",
      "Median difference for QSOs: 0.076\n"
     ]
    }
   ],
   "source": [
    "def split_galaxies_qsos(data):\n",
    "  galaxies = data[data['spec_class'] == b'GALAXY']\n",
    "  qsos = data[data['spec_class'] == b'QSO']\n",
    "  return galaxies, qsos\n",
    "\n",
    "def cross_validate_median_diff(data):\n",
    "  features, targets = get_features_targets(data)\n",
    "  dtr = DecisionTreeRegressor(max_depth=19)\n",
    "  return np.mean(cross_validate_model(dtr, features, targets, 10))\n",
    "\n",
    "\n",
    " \n",
    "galaxies, qsos= split_galaxies_qsos(data)\n",
    "\n",
    "galaxy_med_diff = cross_validate_median_diff(galaxies)\n",
    "qso_med_diff = cross_validate_median_diff(qsos)\n",
    "\n",
    "\n",
    "print(\"Median difference for Galaxies: {:.3f}\".format(galaxy_med_diff))\n",
    "print(\"Median difference for QSOs: {:.3f}\".format(qso_med_diff))"
   ]
  },
  {
   "cell_type": "markdown",
   "id": "0c52627b",
   "metadata": {},
   "source": [
    "So QSOs have a greater median residual ( \n",
    "≈\n",
    "0.074\n",
    " ) than the galaxies ( \n",
    "≈\n",
    "0.016\n",
    " ). \n",
    "\n",
    "This probably happens because:\n",
    "\n",
    "1. There are far fewer QSOs than galaxies.\n",
    "2. Galaxies aren't as bright as QSOs so they become too faint to be detected with SDSS at redshifts ≈ 0.4. This creates a measurement bias. "
   ]
  },
  {
   "cell_type": "code",
   "execution_count": null,
   "id": "2630c3af",
   "metadata": {},
   "outputs": [],
   "source": []
  },
  {
   "cell_type": "code",
   "execution_count": null,
   "id": "65649c07",
   "metadata": {},
   "outputs": [],
   "source": []
  },
  {
   "cell_type": "code",
   "execution_count": null,
   "id": "8deca0f9",
   "metadata": {},
   "outputs": [],
   "source": []
  },
  {
   "cell_type": "code",
   "execution_count": null,
   "id": "4a28f9e8",
   "metadata": {},
   "outputs": [],
   "source": []
  }
 ],
 "metadata": {
  "kernelspec": {
   "display_name": "Python 3",
   "language": "python",
   "name": "python3"
  },
  "language_info": {
   "codemirror_mode": {
    "name": "ipython",
    "version": 3
   },
   "file_extension": ".py",
   "mimetype": "text/x-python",
   "name": "python",
   "nbconvert_exporter": "python",
   "pygments_lexer": "ipython3",
   "version": "3.9.5"
  }
 },
 "nbformat": 4,
 "nbformat_minor": 5
}
